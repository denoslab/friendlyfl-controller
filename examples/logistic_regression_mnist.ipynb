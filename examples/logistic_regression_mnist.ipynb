{
 "cells": [
  {
   "cell_type": "markdown",
   "id": "eccfc76b-f9a5-4743-a954-58a4318b1da1",
   "metadata": {},
   "source": [
    "# Logistic Regression Metrics Example\n",
    "This example uses sklean's built-in `breast_cancer` dataset to create a binary logstic regression.\n",
    "\n",
    "Metrics included in this example:\n",
    "- Accuracy\n",
    "- AUC-ROC\n",
    "- Sensitivity (recall)\n",
    "- Specificity\n",
    "- Negative predictive value (NPV)\n",
    "- Positive predictive value (PPV)\n",
    "\n",
    "Metrics NOT included in this example:\n",
    "- Neutrophil to Lymphocyte Ratio (NLR): the current dataset is not applicable.\n",
    "- Platelet to Lymphocyte Ratio (PLR): the current dataset is not applicable.\n",
    "- Confidence Interval (CI): statsmodel needs to be used for outputing the CIs."
   ]
  },
  {
   "cell_type": "code",
   "execution_count": 65,
   "id": "4d5214b3-719c-4ace-89b1-0af2be8f01b1",
   "metadata": {},
   "outputs": [],
   "source": [
    "import sklearn.linear_model\n",
    "from sklearn.datasets import load_breast_cancer\n",
    "from sklearn.model_selection import train_test_split\n",
    "from sklearn.preprocessing import StandardScaler\n",
    "from sklearn.metrics import accuracy_score,classification_report,confusion_matrix,roc_auc_score\n",
    "import warnings\n",
    "warnings.filterwarnings('ignore')"
   ]
  },
  {
   "cell_type": "code",
   "execution_count": 66,
   "id": "cb03ccea-7520-4490-a694-4fd7da6d5109",
   "metadata": {},
   "outputs": [
    {
     "name": "stdout",
     "output_type": "stream",
     "text": [
      "Loading breast_cancer dataset...\n",
      "Training data shape: (455, 30)\n",
      "Training label shape: (455,)\n",
      "Test data shape: (114, 30)\n",
      "Test label shape: (114,)\n"
     ]
    }
   ],
   "source": [
    "logisticRegr = None\n",
    "X_train = None\n",
    "y_train = None\n",
    "X_test = None\n",
    "y_test = None\n",
    "\n",
    "# load dataset\n",
    "print('Loading breast_cancer dataset...')\n",
    "X, y = load_breast_cancer(return_X_y = True)\n",
    "# Split the data into training and testing sets\n",
    "X_train, X_test, y_train, y_test = train_test_split(X, y, test_size=0.2, random_state=42)\n",
    "\n",
    "# Standardize the numerical features\n",
    "scaler = StandardScaler()\n",
    "X_train_scaled = scaler.fit_transform(X_train)\n",
    "X_test_scaled = scaler.transform(X_test)\n",
    "print(f'Training data shape: {X_train_scaled.shape}')\n",
    "print(f'Training label shape: {y_train.shape}')\n",
    "print(f'Test data shape: {X_test_scaled.shape}')\n",
    "print(f'Test label shape: {y_test.shape}')\n",
    "\n",
    "# Initialize Logistic regression model\n",
    "logisticRegr = sklearn.linear_model.LogisticRegression(\n",
    "    penalty=\"l2\",\n",
    "    max_iter=1,  # local epoch\n",
    "    warm_start=True,  # prevent refreshing weights when fitting\n",
    ")"
   ]
  },
  {
   "cell_type": "code",
   "execution_count": 67,
   "id": "7c823272-7cd1-4c4d-81b7-bb47bd7a0a97",
   "metadata": {},
   "outputs": [
    {
     "name": "stdout",
     "output_type": "stream",
     "text": [
      "Starting training for round [0]...\n",
      "Training complete. Model score: 0.9649122807017544\n"
     ]
    }
   ],
   "source": [
    "for i in range(1):\n",
    "    print(f'Starting training for round [{i}]...')\n",
    "    logisticRegr.fit(X_train_scaled, y_train)\n",
    "    score = logisticRegr.score(X_test_scaled, y_test)\n",
    "    print(f'Training complete. Model score: {score}')"
   ]
  },
  {
   "cell_type": "code",
   "execution_count": 68,
   "id": "a787ac54-326d-40a2-85e2-810d37fcb3ce",
   "metadata": {},
   "outputs": [
    {
     "name": "stdout",
     "output_type": "stream",
     "text": [
      "Accuracy: 0.9649122807017544\n",
      "classifcation report : \n",
      "                precision    recall  f1-score   support\n",
      "\n",
      "           0       0.95      0.95      0.95        43\n",
      "           1       0.97      0.97      0.97        71\n",
      "\n",
      "    accuracy                           0.96       114\n",
      "   macro avg       0.96      0.96      0.96       114\n",
      "weighted avg       0.96      0.96      0.96       114\n",
      "\n"
     ]
    }
   ],
   "source": [
    "# Accuracy metric\n",
    "y_predict = logisticRegr.predict(X_test_scaled)\n",
    "accuracy = accuracy_score(y_test, y_predict)\n",
    "print(f'Accuracy: {accuracy}')\n",
    "classification_report = classification_report(y_test, y_predict)\n",
    "print(f'classifcation report : \\n  {classification_report}')"
   ]
  },
  {
   "cell_type": "code",
   "execution_count": 69,
   "id": "f410b055-6f06-4a7e-8200-5c99b8f915fb",
   "metadata": {},
   "outputs": [
    {
     "name": "stdout",
     "output_type": "stream",
     "text": [
      "AUC: 0.9626596790042582\n"
     ]
    }
   ],
   "source": [
    "# Documentation: https://scikit-learn.org/stable/modules/model_evaluation.html\n",
    "# ROC-AUC\n",
    "auc = roc_auc_score(y_test, y_predict)\n",
    "print(f'AUC: {auc}')"
   ]
  },
  {
   "cell_type": "code",
   "execution_count": 70,
   "id": "0464c429-1437-46b3-bae1-ea329fa12034",
   "metadata": {},
   "outputs": [
    {
     "name": "stdout",
     "output_type": "stream",
     "text": [
      "Accuracy: 0.9649122807017544\n",
      "Sensitivity: 0.971830985915493\n",
      "Specificity: 0.9534883720930233\n",
      "NPV: 0.9534883720930233\n",
      "PPV: 0.971830985915493\n"
     ]
    }
   ],
   "source": [
    "# Use confusion matrix to calculate the metrics\n",
    "tn, fp, fn, tp = confusion_matrix(y_test, y_predict).ravel()\n",
    "\n",
    "accuracy = (tp + tn) / (tn + fp + fn + tp)\n",
    "print(f'Accuracy: {accuracy}')\n",
    "\n",
    "sensitivity = tp / (tp + fn)\n",
    "print(f'Sensitivity: {sensitivity}')\n",
    "\n",
    "specificity = tn / (tn + fp)\n",
    "print(f'Specificity: {specificity}')\n",
    "\n",
    "npv = tn / (tn + fn)\n",
    "print(f'NPV: {npv}')\n",
    "\n",
    "ppv = tp / (tp + fp)\n",
    "print(f'PPV: {ppv}')"
   ]
  },
  {
   "cell_type": "code",
   "execution_count": null,
   "id": "ee1286f0-558c-445e-bc7d-5ab100080093",
   "metadata": {},
   "outputs": [],
   "source": [
    "# CI needs to use statsmodels for the Logistic Regression model. Skipping it for now."
   ]
  }
 ],
 "metadata": {
  "kernelspec": {
   "display_name": "Python 3 (ipykernel)",
   "language": "python",
   "name": "python3"
  },
  "language_info": {
   "codemirror_mode": {
    "name": "ipython",
    "version": 3
   },
   "file_extension": ".py",
   "mimetype": "text/x-python",
   "name": "python",
   "nbconvert_exporter": "python",
   "pygments_lexer": "ipython3",
   "version": "3.10.9"
  }
 },
 "nbformat": 4,
 "nbformat_minor": 5
}
